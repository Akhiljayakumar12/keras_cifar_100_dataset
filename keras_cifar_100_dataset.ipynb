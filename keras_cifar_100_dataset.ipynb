{
  "nbformat": 4,
  "nbformat_minor": 0,
  "metadata": {
    "colab": {
      "provenance": []
    },
    "kernelspec": {
      "name": "python3",
      "display_name": "Python 3"
    },
    "language_info": {
      "name": "python"
    }
  },
  "cells": [
    {
      "cell_type": "code",
      "execution_count": null,
      "metadata": {
        "id": "rfTWOm0hvRne"
      },
      "outputs": [],
      "source": [
        "import keras\n",
        "import numpy as np\n",
        "import matplotlib.pyplot as plt\n",
        "%matplotlib inline"
      ]
    },
    {
      "cell_type": "code",
      "source": [
        "from tensorflow.keras.datasets import cifar100\n",
        "from tensorflow.keras.models import Sequential\n",
        "from tensorflow.keras.layers import Dense, Flatten, Conv2D, MaxPooling2D\n",
        "from tensorflow.keras.losses import sparse_categorical_crossentropy\n",
        "from tensorflow.keras.optimizers import Adam\n",
        "import matplotlib.pyplot as plt"
      ],
      "metadata": {
        "id": "NP--jSHCxE63"
      },
      "execution_count": null,
      "outputs": []
    },
    {
      "cell_type": "code",
      "source": [
        "# Model configuration\n",
        "batch_size = 50\n",
        "img_width, img_height, img_num_channels = 32, 32, 3\n",
        "loss_function = \"sparse_categorical_crossentropy\"\n",
        "no_classes = 100\n",
        "no_epochs = 10\n",
        "optimizer = \"adam\"\n",
        "validation_split = 0.2\n",
        "verbosity = 1"
      ],
      "metadata": {
        "id": "MQOQAH1Hvd9Q"
      },
      "execution_count": null,
      "outputs": []
    },
    {
      "cell_type": "code",
      "source": [
        "# Load CIFAR-100 data\n",
        "(input_train, target_train), (input_test, target_test) = cifar100.load_data()"
      ],
      "metadata": {
        "id": "8FHXnWf1vvFO"
      },
      "execution_count": null,
      "outputs": []
    },
    {
      "cell_type": "code",
      "source": [
        "# Determine shape of the data\n",
        "input_shape = (img_width, img_height, img_num_channels)"
      ],
      "metadata": {
        "id": "Hh4Uy4u1vvBr"
      },
      "execution_count": null,
      "outputs": []
    },
    {
      "cell_type": "code",
      "source": [
        "# Parse numbers as floats\n",
        "input_train = input_train.astype('float32')\n",
        "input_test = input_test.astype('float32')"
      ],
      "metadata": {
        "id": "trs21jylvu_R"
      },
      "execution_count": null,
      "outputs": []
    },
    {
      "cell_type": "code",
      "source": [
        "# Normalize data\n",
        "input_train = input_train / 255\n",
        "input_test = input_test / 255"
      ],
      "metadata": {
        "id": "JVZ-kILvvu8r"
      },
      "execution_count": null,
      "outputs": []
    },
    {
      "cell_type": "code",
      "source": [
        "# Create the model\n",
        "model = Sequential()\n",
        "model.add(Conv2D(32, kernel_size=(3, 3), activation='relu', input_shape=input_shape))\n",
        "model.add(MaxPooling2D(pool_size=(2, 2)))\n",
        "model.add(Conv2D(64, kernel_size=(3, 3), activation='relu'))\n",
        "model.add(MaxPooling2D(pool_size=(2, 2)))\n",
        "model.add(Conv2D(128, kernel_size=(3, 3), activation='relu'))\n",
        "model.add(MaxPooling2D(pool_size=(2, 2)))\n",
        "model.add(Flatten())\n",
        "model.add(Dense(256, activation='relu'))\n",
        "model.add(Dense(128, activation='relu'))\n",
        "model.add(Dense(no_classes, activation='softmax'))"
      ],
      "metadata": {
        "id": "AECc_Y0tvu6U"
      },
      "execution_count": null,
      "outputs": []
    },
    {
      "cell_type": "code",
      "source": [
        "# Compile the model\n",
        "model.compile(loss=loss_function,\n",
        "              optimizer=optimizer,\n",
        "              metrics=['accuracy'])"
      ],
      "metadata": {
        "id": "I7n03Rg8vu3s"
      },
      "execution_count": null,
      "outputs": []
    },
    {
      "cell_type": "code",
      "source": [
        "# Fit data to model\n",
        "history = model.fit(input_train, target_train,\n",
        "            batch_size=batch_size,\n",
        "            epochs=no_epochs,\n",
        "            verbose=verbosity,\n",
        "            validation_split=validation_split)"
      ],
      "metadata": {
        "colab": {
          "base_uri": "https://localhost:8080/"
        },
        "id": "3GoxKih3vu1O",
        "outputId": "b911499f-12d7-4eb6-cc78-25cd1f14faa7"
      },
      "execution_count": null,
      "outputs": [
        {
          "output_type": "stream",
          "name": "stdout",
          "text": [
            "Epoch 1/10\n",
            "800/800 [==============================] - 64s 78ms/step - loss: 4.0765 - accuracy: 0.0708 - val_loss: 3.7730 - val_accuracy: 0.1192\n",
            "Epoch 2/10\n",
            "800/800 [==============================] - 60s 75ms/step - loss: 3.4817 - accuracy: 0.1653 - val_loss: 3.3312 - val_accuracy: 0.1898\n",
            "Epoch 3/10\n",
            "800/800 [==============================] - 61s 77ms/step - loss: 3.1577 - accuracy: 0.2234 - val_loss: 3.0938 - val_accuracy: 0.2405\n",
            "Epoch 4/10\n",
            "800/800 [==============================] - 62s 78ms/step - loss: 2.9430 - accuracy: 0.2648 - val_loss: 3.0117 - val_accuracy: 0.2449\n",
            "Epoch 5/10\n",
            "800/800 [==============================] - 60s 76ms/step - loss: 2.7806 - accuracy: 0.2943 - val_loss: 2.8496 - val_accuracy: 0.2864\n",
            "Epoch 6/10\n",
            "800/800 [==============================] - 59s 74ms/step - loss: 2.6371 - accuracy: 0.3244 - val_loss: 2.8184 - val_accuracy: 0.2938\n",
            "Epoch 7/10\n",
            "800/800 [==============================] - 61s 77ms/step - loss: 2.5046 - accuracy: 0.3534 - val_loss: 2.7326 - val_accuracy: 0.3121\n",
            "Epoch 8/10\n",
            "800/800 [==============================] - 60s 75ms/step - loss: 2.3989 - accuracy: 0.3738 - val_loss: 2.6733 - val_accuracy: 0.3262\n",
            "Epoch 9/10\n",
            "800/800 [==============================] - 60s 75ms/step - loss: 2.2935 - accuracy: 0.3966 - val_loss: 2.6496 - val_accuracy: 0.3325\n",
            "Epoch 10/10\n",
            "800/800 [==============================] - 60s 75ms/step - loss: 2.1932 - accuracy: 0.4175 - val_loss: 2.7100 - val_accuracy: 0.3314\n"
          ]
        }
      ]
    },
    {
      "cell_type": "code",
      "source": [
        "model.evaluate(input_test,target_test)"
      ],
      "metadata": {
        "colab": {
          "base_uri": "https://localhost:8080/"
        },
        "id": "-HneDa08vuyw",
        "outputId": "9c89928e-6ee0-436e-88a6-bcb700fe8690"
      },
      "execution_count": null,
      "outputs": [
        {
          "output_type": "stream",
          "name": "stdout",
          "text": [
            "313/313 [==============================] - 5s 15ms/step - loss: 2.6825 - accuracy: 0.3378\n"
          ]
        },
        {
          "output_type": "execute_result",
          "data": {
            "text/plain": [
              "[2.6824989318847656, 0.337799996137619]"
            ]
          },
          "metadata": {},
          "execution_count": 30
        }
      ]
    },
    {
      "cell_type": "code",
      "source": [
        "plt.matshow(input_test[0])"
      ],
      "metadata": {
        "colab": {
          "base_uri": "https://localhost:8080/",
          "height": 454
        },
        "id": "FBxn98TJvuvw",
        "outputId": "fc46e93d-9d61-4617-97ef-f3b68880b15f"
      },
      "execution_count": null,
      "outputs": [
        {
          "output_type": "execute_result",
          "data": {
            "text/plain": [
              "<matplotlib.image.AxesImage at 0x7df3cd34e0e0>"
            ]
          },
          "metadata": {},
          "execution_count": 31
        },
        {
          "output_type": "display_data",
          "data": {
            "text/plain": [
              "<Figure size 480x480 with 1 Axes>"
            ],
            "image/png": "[encoded data removed]"
          },
          "metadata": {}
        }
      ]
    },
    {
      "cell_type": "code",
      "source": [
        "yp=model.predict(input_test)"
      ],
      "metadata": {
        "colab": {
          "base_uri": "https://localhost:8080/"
        },
        "id": "Flvia6GCvutI",
        "outputId": "84ab9906-8b45-465f-8b33-70de3557ac81"
      },
      "execution_count": null,
      "outputs": [
        {
          "output_type": "stream",
          "name": "stdout",
          "text": [
            "313/313 [==============================] - 5s 14ms/step\n"
          ]
        }
      ]
    },
    {
      "cell_type": "code",
      "source": [
        "np.argmax(yp[0])"
      ],
      "metadata": {
        "colab": {
          "base_uri": "https://localhost:8080/"
        },
        "id": "k9KdPV-Pvuqg",
        "outputId": "738c8b3c-ff27-4d73-ca16-e9d397ad0376"
      },
      "execution_count": null,
      "outputs": [
        {
          "output_type": "execute_result",
          "data": {
            "text/plain": [
              "72"
            ]
          },
          "metadata": {},
          "execution_count": 34
        }
      ]
    },
    {
      "cell_type": "code",
      "source": [
        "class_labels = [\"Beaver\",\"Dolphin\",\"Otter\",\"Seal\tWhale\",\"Aquarium fish\",\"Flatfish\",\"Ray\",\"Shark\tTrout\",\"Orchids\",\"Poppies\",\"Roses\",\"Sunflowers\",\"Tulips\"\n",
        "\"Bottles\",\"Bowls\",\"Cans\",\"Cups\",\"Plates\",\"Apples\",\"Mushrooms\",\"Oranges\",\"Pears\",\"Sweet peppers\",\"Clok\",\"Computer\",\"keyboard\",\"Lamp\",\"Telephone\",\"Television\",\"Bed\"\n",
        "\"Chair\",\"Couch\",\"Table\",\"Wardrobe\",\"Bee\",\"Beetle\",\"Butterfly\",\"Caterpillar\",\"Cockroach\",\"Bear\",\"Leopard\",\"Lion\",\"Tiger\",\"Wolf\",\"Bridge\",\"Castle\",\"House\",\"Road\",\"Skyscraper\",\n",
        "\"Cloud\",\"Forest\",\"Mountain\",\"Plain\tSea\",\"Camel\",\"Cattle\",\"Chimpanzee\",\"Elephant\",\"Kangaroo\",\"Fox\",\"Porcupine\",\"Possum\",\"Raccoon\",\"Skunk\",\"Crab\",\"Lobster\",\"Snail\",\"Spider\",\"Worm\",\n",
        "\"Baby\",\"Boy\",\"Girl\",\"Man\",\"Woman\",\"Crocodile\",\"Dinosaur\",\"Lizard\",\"Snake\",\"Turtle\",\"Hamster\",\"Mouse\",\"Rabbit\",\"Shrew\",\"Squirrel\",\"Maple\",\"Oak\",\"Palm\",\"Pine\",\"Willow\"\n",
        "\"Bicycle\",\"Bus\",\"Motorcycle\",\"Pickup\",\"truck\",\"Train\",\"Lawn-mower\",\"Rocket\",\"Streetcar\",\"Tank\",\"Tractor\"]"
      ],
      "metadata": {
        "id": "YDjbbCzp00kd"
      },
      "execution_count": null,
      "outputs": []
    },
    {
      "cell_type": "code",
      "source": [
        "class_labels[np.argmax(yp[0])]"
      ],
      "metadata": {
        "colab": {
          "base_uri": "https://localhost:8080/",
          "height": 36
        },
        "id": "LeG8A4dA3bC3",
        "outputId": "0b337f27-5c48-4cb5-97a1-10c11610181b"
      },
      "execution_count": null,
      "outputs": [
        {
          "output_type": "execute_result",
          "data": {
            "text/plain": [
              "'Dinosaur'"
            ],
            "application/vnd.google.colaboratory.intrinsic+json": {
              "type": "string"
            }
          },
          "metadata": {},
          "execution_count": 37
        }
      ]
    },
    {
      "cell_type": "code",
      "source": [],
      "metadata": {
        "id": "4oVa8DQ83a_Q"
      },
      "execution_count": null,
      "outputs": []
    }
  ]
}